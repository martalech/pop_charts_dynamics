{
 "cells": [
  {
   "cell_type": "code",
   "execution_count": 1,
   "metadata": {},
   "outputs": [],
   "source": [
    "import pandas as pd\n",
    "import numpy as np\n",
    "\n",
    "itunes_charts = pd.read_csv(\"itunes.csv\")"
   ]
  },
  {
   "cell_type": "code",
   "execution_count": 3,
   "metadata": {},
   "outputs": [
    {
     "data": {
      "text/plain": [
       "day         object\n",
       "title       object\n",
       "position     int64\n",
       "dtype: object"
      ]
     },
     "execution_count": 3,
     "metadata": {},
     "output_type": "execute_result"
    }
   ],
   "source": [
    "itunes_charts.dtypes"
   ]
  },
  {
   "cell_type": "code",
   "execution_count": 5,
   "metadata": {},
   "outputs": [],
   "source": [
    "itunes_charts[\"day\"] = pd.to_datetime(itunes_charts[\"day\"],\n",
    "                                        infer_datetime_format=True)"
   ]
  },
  {
   "cell_type": "code",
   "execution_count": 7,
   "metadata": {},
   "outputs": [
    {
     "data": {
      "text/plain": [
       "day         datetime64[ns]\n",
       "title               object\n",
       "position             int64\n",
       "dtype: object"
      ]
     },
     "execution_count": 7,
     "metadata": {},
     "output_type": "execute_result"
    }
   ],
   "source": [
    "itunes_charts.dtypes"
   ]
  },
  {
   "cell_type": "code",
   "execution_count": 18,
   "metadata": {},
   "outputs": [
    {
     "name": "stderr",
     "output_type": "stream",
     "text": [
      "C:\\Users\\cutie\\AppData\\Local\\Temp\\ipykernel_26116\\2468027001.py:5: FutureWarning: In a future version of pandas, a length 1 tuple will be returned when iterating over a groupby with a grouper equal to a list of length 1. Don't supply a list with a single grouper to avoid this warning.\n",
      "  for name, group in itunes_grouped:\n"
     ]
    }
   ],
   "source": [
    "itunes_new_dict = []\n",
    "itunes_new = pd.DataFrame(columns=[\"day\", \"title\", \"position\", \"last_week_position\", \"weeks_on_chart\"])\n",
    "itunes_grouped = itunes_charts.groupby([\"title\"])\n",
    "\n",
    "for name, group in itunes_grouped:\n",
    "    min_day = group[\"day\"].min().to_pydatetime()\n",
    "\n",
    "    last_position = np.nan\n",
    "    for row_index, row in group.sort_values(by=\"day\").iterrows():\n",
    "        row[\"last_week_position\"] = last_position\n",
    "        row[\"weeks_on_chart\"] = (row[\"day\"] - min_day).days + 1\n",
    "        last_position = row[\"position\"]\n",
    "        itunes_new_dict.append(row)\n",
    "\n",
    "itunes_new = pd.concat([itunes_new, pd.DataFrame(itunes_new_dict)])"
   ]
  },
  {
   "cell_type": "code",
   "execution_count": 20,
   "metadata": {},
   "outputs": [],
   "source": [
    "itunes_new.to_csv(\"itunes_top.csv\", index=False)"
   ]
  }
 ],
 "metadata": {
  "kernelspec": {
   "display_name": "env",
   "language": "python",
   "name": "python3"
  },
  "language_info": {
   "codemirror_mode": {
    "name": "ipython",
    "version": 3
   },
   "file_extension": ".py",
   "mimetype": "text/x-python",
   "name": "python",
   "nbconvert_exporter": "python",
   "pygments_lexer": "ipython3",
   "version": "3.11.1"
  },
  "orig_nbformat": 4,
  "vscode": {
   "interpreter": {
    "hash": "4bc20f4bd208b5001c99ce7b2d03763e16776c4ef3de97546f679b5960c23d4b"
   }
  }
 },
 "nbformat": 4,
 "nbformat_minor": 2
}
