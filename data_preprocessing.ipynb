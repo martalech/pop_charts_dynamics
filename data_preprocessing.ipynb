{
 "cells": [
  {
   "cell_type": "code",
   "execution_count": 40,
   "metadata": {},
   "outputs": [],
   "source": [
    "import pandas as pd\n",
    "import numpy as np\n",
    "\n",
    "billboard_hot_100 = pd.read_csv(\"billboard_hot_100.csv\")"
   ]
  },
  {
   "cell_type": "code",
   "execution_count": 34,
   "metadata": {},
   "outputs": [
    {
     "data": {
      "text/plain": [
       "Unnamed: 0                 int64\n",
       "first_day_of_the_week     object\n",
       "artist                    object\n",
       "song_name                 object\n",
       "position                   int64\n",
       "last_week_position       float64\n",
       "peak_position              int64\n",
       "weeks_on_chart             int64\n",
       "songwriters               object\n",
       "producers                 object\n",
       "promotion_label           object\n",
       "dtype: object"
      ]
     },
     "execution_count": 34,
     "metadata": {},
     "output_type": "execute_result"
    }
   ],
   "source": [
    "billboard_hot_100.dtypes"
   ]
  },
  {
   "cell_type": "code",
   "execution_count": 35,
   "metadata": {},
   "outputs": [],
   "source": [
    "billboard_hot_100[\"first_day_of_the_week\"] = pd.to_datetime(billboard_hot_100[\"first_day_of_the_week\"],\n",
    "                                                            infer_datetime_format=True)\n",
    "\n",
    "billboard_hot_100[\"last_week_position\"] = pd.to_numeric(billboard_hot_100[\"last_week_position\"], errors=\"coerce\",\n",
    "                                                        downcast=\"integer\")"
   ]
  },
  {
   "cell_type": "code",
   "execution_count": 36,
   "metadata": {},
   "outputs": [
    {
     "data": {
      "text/plain": [
       "Unnamed: 0                        int64\n",
       "first_day_of_the_week    datetime64[ns]\n",
       "artist                           object\n",
       "song_name                        object\n",
       "position                          int64\n",
       "last_week_position              float64\n",
       "peak_position                     int64\n",
       "weeks_on_chart                    int64\n",
       "songwriters                      object\n",
       "producers                        object\n",
       "promotion_label                  object\n",
       "dtype: object"
      ]
     },
     "execution_count": 36,
     "metadata": {},
     "output_type": "execute_result"
    }
   ],
   "source": [
    "billboard_hot_100.dtypes"
   ]
  },
  {
   "cell_type": "code",
   "execution_count": 37,
   "metadata": {},
   "outputs": [],
   "source": [
    "billboard_hot_100[\"year\"] = billboard_hot_100[\"first_day_of_the_week\"].dt.year\n",
    "billboard_hot_100 = billboard_hot_100[(billboard_hot_100[\"year\"] >= 1959) &\\\n",
    "                                      (billboard_hot_100[\"year\"] <= 2022)]"
   ]
  },
  {
   "cell_type": "code",
   "execution_count": 41,
   "metadata": {},
   "outputs": [],
   "source": [
    "billboard_hot_100.to_csv(\"billboard_hot_100.csv\", index=False)"
   ]
  },
  {
   "cell_type": "code",
   "execution_count": 39,
   "metadata": {},
   "outputs": [
    {
     "data": {
      "text/plain": [
       "Unnamed: 0               333887\n",
       "first_day_of_the_week      3339\n",
       "artist                    10416\n",
       "song_name                 25026\n",
       "position                    100\n",
       "last_week_position          100\n",
       "peak_position               100\n",
       "weeks_on_chart               91\n",
       "songwriters               17780\n",
       "producers                 10012\n",
       "promotion_label            3296\n",
       "year                         64\n",
       "dtype: int64"
      ]
     },
     "execution_count": 39,
     "metadata": {},
     "output_type": "execute_result"
    }
   ],
   "source": [
    "billboard_hot_100.nunique()"
   ]
  }
 ],
 "metadata": {
  "kernelspec": {
   "display_name": "Python 3 (ipykernel)",
   "language": "python",
   "name": "python3"
  },
  "language_info": {
   "codemirror_mode": {
    "name": "ipython",
    "version": 3
   },
   "file_extension": ".py",
   "mimetype": "text/x-python",
   "name": "python",
   "nbconvert_exporter": "python",
   "pygments_lexer": "ipython3",
   "version": "3.11.1"
  },
  "vscode": {
   "interpreter": {
    "hash": "4bc20f4bd208b5001c99ce7b2d03763e16776c4ef3de97546f679b5960c23d4b"
   }
  }
 },
 "nbformat": 4,
 "nbformat_minor": 2
}
