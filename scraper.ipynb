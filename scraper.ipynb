{
 "cells": [
  {
   "cell_type": "code",
   "execution_count": 1,
   "id": "ac2183af",
   "metadata": {},
   "outputs": [
    {
     "name": "stderr",
     "output_type": "stream",
     "text": [
      "2023-01-06 19:08:52 [scrapy.utils.log] INFO: Scrapy 2.7.1 started (bot: scrapybot)\n",
      "2023-01-06 19:08:52 [scrapy.utils.log] INFO: Versions: lxml 4.9.2.0, libxml2 2.9.12, cssselect 1.2.0, parsel 1.7.0, w3lib 2.1.1, Twisted 22.10.0, Python 3.11.1 (tags/v3.11.1:a7a450f, Dec  6 2022, 19:58:39) [MSC v.1934 64 bit (AMD64)], pyOpenSSL 23.0.0 (OpenSSL 3.0.7 1 Nov 2022), cryptography 39.0.0, Platform Windows-10-10.0.19044-SP0\n",
      "2023-01-06 19:08:52 [scrapy.crawler] INFO: Overridden settings:\n",
      "{}\n",
      "2023-01-06 19:08:52 [py.warnings] WARNING: C:\\Users\\cutie\\source\\repos\\mgr\\env\\Lib\\site-packages\\scrapy\\utils\\request.py:231: ScrapyDeprecationWarning: '2.6' is a deprecated value for the 'REQUEST_FINGERPRINTER_IMPLEMENTATION' setting.\n",
      "\n",
      "It is also the default value. In other words, it is normal to get this warning if you have not defined a value for the 'REQUEST_FINGERPRINTER_IMPLEMENTATION' setting. This is so for backward compatibility reasons, but it will change in a future version of Scrapy.\n",
      "\n",
      "See the documentation of the 'REQUEST_FINGERPRINTER_IMPLEMENTATION' setting for information on how to handle this deprecation.\n",
      "  return cls(crawler)\n",
      "\n",
      "2023-01-06 19:08:52 [scrapy.utils.log] DEBUG: Using reactor: twisted.internet.selectreactor.SelectReactor\n",
      "2023-01-06 19:08:52 [scrapy.extensions.telnet] INFO: Telnet Password: 0db8fabca1861add\n",
      "2023-01-06 19:08:52 [scrapy.middleware] INFO: Enabled extensions:\n",
      "['scrapy.extensions.corestats.CoreStats',\n",
      " 'scrapy.extensions.telnet.TelnetConsole',\n",
      " 'scrapy.extensions.feedexport.FeedExporter',\n",
      " 'scrapy.extensions.logstats.LogStats']\n",
      "2023-01-06 19:08:52 [scrapy.middleware] INFO: Enabled downloader middlewares:\n",
      "['scrapy.downloadermiddlewares.httpauth.HttpAuthMiddleware',\n",
      " 'scrapy.downloadermiddlewares.downloadtimeout.DownloadTimeoutMiddleware',\n",
      " 'scrapy.downloadermiddlewares.defaultheaders.DefaultHeadersMiddleware',\n",
      " 'scrapy.downloadermiddlewares.useragent.UserAgentMiddleware',\n",
      " 'scrapy.downloadermiddlewares.retry.RetryMiddleware',\n",
      " 'scrapy.downloadermiddlewares.redirect.MetaRefreshMiddleware',\n",
      " 'scrapy.downloadermiddlewares.httpcompression.HttpCompressionMiddleware',\n",
      " 'scrapy.downloadermiddlewares.redirect.RedirectMiddleware',\n",
      " 'scrapy.downloadermiddlewares.cookies.CookiesMiddleware',\n",
      " 'scrapy.downloadermiddlewares.httpproxy.HttpProxyMiddleware',\n",
      " 'scrapy.downloadermiddlewares.stats.DownloaderStats']\n",
      "2023-01-06 19:08:52 [scrapy.middleware] INFO: Enabled spider middlewares:\n",
      "['scrapy.spidermiddlewares.httperror.HttpErrorMiddleware',\n",
      " 'scrapy.spidermiddlewares.offsite.OffsiteMiddleware',\n",
      " 'scrapy.spidermiddlewares.referer.RefererMiddleware',\n",
      " 'scrapy.spidermiddlewares.urllength.UrlLengthMiddleware',\n",
      " 'scrapy.spidermiddlewares.depth.DepthMiddleware']\n",
      "2023-01-06 19:08:52 [scrapy.middleware] INFO: Enabled item pipelines:\n",
      "[]\n",
      "2023-01-06 19:08:52 [scrapy.core.engine] INFO: Spider opened\n",
      "2023-01-06 19:08:53 [scrapy.extensions.logstats] INFO: Crawled 0 pages (at 0 pages/min), scraped 0 items (at 0 items/min)\n",
      "2023-01-06 19:08:53 [scrapy.extensions.telnet] INFO: Telnet console listening on 127.0.0.1:6023\n"
     ]
    },
    {
     "data": {
      "text/plain": [
       "<Deferred at 0x2962bd7b610>"
      ]
     },
     "execution_count": 1,
     "metadata": {},
     "output_type": "execute_result"
    }
   ],
   "source": [
    "import datetime\n",
    "import logging\n",
    "\n",
    "from billboard_spider import BillboardSpider\n",
    "from scrapy.crawler import CrawlerProcess\n",
    "\n",
    "process = CrawlerProcess(settings={\n",
    "    \"FEEDS\": {\n",
    "        \"billboard100.csv\": {\"format\": \"csv\"},\n",
    "    },\n",
    "})\n",
    "\n",
    "process.crawl(BillboardSpider)"
   ]
  },
  {
   "cell_type": "code",
   "execution_count": 2,
   "id": "5f573204",
   "metadata": {},
   "outputs": [
    {
     "name": "stderr",
     "output_type": "stream",
     "text": [
      "2023-01-06 19:09:53 [scrapy.extensions.logstats] INFO: Crawled 208 pages (at 208 pages/min), scraped 20519 items (at 20519 items/min)\n",
      "2023-01-06 19:10:53 [scrapy.extensions.logstats] INFO: Crawled 381 pages (at 173 pages/min), scraped 37843 items (at 17324 items/min)\n",
      "2023-01-06 19:11:53 [scrapy.extensions.logstats] INFO: Crawled 525 pages (at 144 pages/min), scraped 52500 items (at 14657 items/min)\n",
      "2023-01-06 19:12:53 [scrapy.extensions.logstats] INFO: Crawled 686 pages (at 161 pages/min), scraped 68500 items (at 16000 items/min)\n",
      "2023-01-06 19:13:53 [scrapy.extensions.logstats] INFO: Crawled 835 pages (at 149 pages/min), scraped 83400 items (at 14900 items/min)\n",
      "2023-01-06 19:14:53 [scrapy.extensions.logstats] INFO: Crawled 976 pages (at 141 pages/min), scraped 97487 items (at 14087 items/min)\n",
      "2023-01-06 19:15:53 [scrapy.extensions.logstats] INFO: Crawled 1124 pages (at 148 pages/min), scraped 111866 items (at 14379 items/min)\n",
      "2023-01-06 19:16:53 [scrapy.extensions.logstats] INFO: Crawled 1276 pages (at 152 pages/min), scraped 127244 items (at 15378 items/min)\n",
      "2023-01-06 19:17:53 [scrapy.extensions.logstats] INFO: Crawled 1415 pages (at 139 pages/min), scraped 141091 items (at 13847 items/min)\n",
      "2023-01-06 19:18:53 [scrapy.extensions.logstats] INFO: Crawled 1569 pages (at 154 pages/min), scraped 156687 items (at 15596 items/min)\n",
      "2023-01-06 19:19:53 [scrapy.extensions.logstats] INFO: Crawled 1723 pages (at 154 pages/min), scraped 171726 items (at 15039 items/min)\n",
      "2023-01-06 19:20:53 [scrapy.extensions.logstats] INFO: Crawled 1859 pages (at 136 pages/min), scraped 185787 items (at 14061 items/min)\n",
      "2023-01-06 19:21:53 [scrapy.extensions.logstats] INFO: Crawled 1997 pages (at 138 pages/min), scraped 199587 items (at 13800 items/min)\n",
      "2023-01-06 19:22:53 [scrapy.extensions.logstats] INFO: Crawled 2124 pages (at 127 pages/min), scraped 212287 items (at 12700 items/min)\n",
      "2023-01-06 19:23:53 [scrapy.extensions.logstats] INFO: Crawled 2268 pages (at 144 pages/min), scraped 226488 items (at 14201 items/min)\n",
      "2023-01-06 19:24:53 [scrapy.extensions.logstats] INFO: Crawled 2408 pages (at 140 pages/min), scraped 240480 items (at 13992 items/min)\n",
      "2023-01-06 19:25:53 [scrapy.extensions.logstats] INFO: Crawled 2565 pages (at 157 pages/min), scraped 256288 items (at 15808 items/min)\n",
      "2023-01-06 19:26:53 [scrapy.extensions.logstats] INFO: Crawled 2733 pages (at 168 pages/min), scraped 272984 items (at 16696 items/min)\n",
      "2023-01-06 19:27:53 [scrapy.extensions.logstats] INFO: Crawled 2903 pages (at 170 pages/min), scraped 289969 items (at 16985 items/min)\n",
      "2023-01-06 19:28:53 [scrapy.extensions.logstats] INFO: Crawled 3036 pages (at 133 pages/min), scraped 303387 items (at 13418 items/min)\n",
      "2023-01-06 19:29:53 [scrapy.extensions.logstats] INFO: Crawled 3195 pages (at 159 pages/min), scraped 319387 items (at 16000 items/min)\n",
      "2023-01-06 19:30:53 [scrapy.extensions.logstats] INFO: Crawled 3337 pages (at 142 pages/min), scraped 333218 items (at 13831 items/min)\n",
      "2023-01-06 19:31:04 [scrapy.core.engine] INFO: Closing spider (finished)\n",
      "2023-01-06 19:31:04 [scrapy.extensions.feedexport] INFO: Stored csv feed (336087 items) in: billboard100.csv\n",
      "2023-01-06 19:31:04 [scrapy.statscollectors] INFO: Dumping Scrapy stats:\n",
      "{'downloader/request_bytes': 1630570,\n",
      " 'downloader/request_count': 6724,\n",
      " 'downloader/request_method_count/GET': 6724,\n",
      " 'downloader/response_bytes': 536920550,\n",
      " 'downloader/response_count': 6724,\n",
      " 'downloader/response_status_count/200': 3362,\n",
      " 'downloader/response_status_count/301': 3362,\n",
      " 'elapsed_time_seconds': 1331.68116,\n",
      " 'feedexport/success_count/FileFeedStorage': 1,\n",
      " 'finish_reason': 'finished',\n",
      " 'finish_time': datetime.datetime(2023, 1, 6, 18, 31, 4, 821697),\n",
      " 'httpcompression/response_bytes': 7547431697,\n",
      " 'httpcompression/response_count': 3362,\n",
      " 'item_scraped_count': 336087,\n",
      " 'log_count/DEBUG': 1,\n",
      " 'log_count/INFO': 33,\n",
      " 'log_count/WARNING': 1,\n",
      " 'response_received_count': 3362,\n",
      " 'scheduler/dequeued': 6724,\n",
      " 'scheduler/dequeued/memory': 6724,\n",
      " 'scheduler/enqueued': 6724,\n",
      " 'scheduler/enqueued/memory': 6724,\n",
      " 'start_time': datetime.datetime(2023, 1, 6, 18, 8, 53, 140537)}\n",
      "2023-01-06 19:31:04 [scrapy.core.engine] INFO: Spider closed (finished)\n"
     ]
    }
   ],
   "source": [
    "logging.getLogger('scrapy').setLevel(logging.INFO)\n",
    "\n",
    "process.start()"
   ]
  }
 ],
 "metadata": {
  "kernelspec": {
   "display_name": "Python 3 (ipykernel)",
   "language": "python",
   "name": "python3"
  },
  "language_info": {
   "codemirror_mode": {
    "name": "ipython",
    "version": 3
   },
   "file_extension": ".py",
   "mimetype": "text/x-python",
   "name": "python",
   "nbconvert_exporter": "python",
   "pygments_lexer": "ipython3",
   "version": "3.11.1"
  },
  "vscode": {
   "interpreter": {
    "hash": "4bc20f4bd208b5001c99ce7b2d03763e16776c4ef3de97546f679b5960c23d4b"
   }
  }
 },
 "nbformat": 4,
 "nbformat_minor": 5
}
