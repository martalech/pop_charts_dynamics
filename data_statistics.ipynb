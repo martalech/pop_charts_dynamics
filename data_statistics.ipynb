{
 "cells": [
  {
   "cell_type": "code",
   "execution_count": 26,
   "id": "79aef9aa",
   "metadata": {},
   "outputs": [],
   "source": [
    "import pandas as pd\n",
    "import numpy as np\n",
    "\n",
    "billboard_hot_100 = pd.read_csv(\"billboard_hot_100.csv\")\n",
    "billboard_hot_100[\"first_day_of_the_week\"] = pd.to_datetime(billboard_hot_100[\"first_day_of_the_week\"],\n",
    "                                                            infer_datetime_format=True)"
   ]
  },
  {
   "cell_type": "code",
   "execution_count": 27,
   "id": "1b72ef71",
   "metadata": {},
   "outputs": [
    {
     "data": {
      "text/plain": [
       "Unnamed: 0                        int64\n",
       "first_day_of_the_week    datetime64[ns]\n",
       "artist                           object\n",
       "song_name                        object\n",
       "position                          int64\n",
       "last_week_position              float64\n",
       "peak_position                     int64\n",
       "weeks_on_chart                    int64\n",
       "songwriters                      object\n",
       "producers                        object\n",
       "promotion_label                  object\n",
       "dtype: object"
      ]
     },
     "execution_count": 27,
     "metadata": {},
     "output_type": "execute_result"
    }
   ],
   "source": [
    "billboard_hot_100.dtypes"
   ]
  },
  {
   "cell_type": "code",
   "execution_count": 28,
   "id": "4f2f2ea6",
   "metadata": {},
   "outputs": [
    {
     "data": {
      "text/html": [
       "<div>\n",
       "<style scoped>\n",
       "    .dataframe tbody tr th:only-of-type {\n",
       "        vertical-align: middle;\n",
       "    }\n",
       "\n",
       "    .dataframe tbody tr th {\n",
       "        vertical-align: top;\n",
       "    }\n",
       "\n",
       "    .dataframe thead th {\n",
       "        text-align: right;\n",
       "    }\n",
       "</style>\n",
       "<table border=\"1\" class=\"dataframe\">\n",
       "  <thead>\n",
       "    <tr style=\"text-align: right;\">\n",
       "      <th></th>\n",
       "      <th>Unnamed: 0</th>\n",
       "      <th>first_day_of_the_week</th>\n",
       "      <th>artist</th>\n",
       "      <th>song_name</th>\n",
       "      <th>position</th>\n",
       "      <th>last_week_position</th>\n",
       "      <th>peak_position</th>\n",
       "      <th>weeks_on_chart</th>\n",
       "      <th>songwriters</th>\n",
       "      <th>producers</th>\n",
       "      <th>promotion_label</th>\n",
       "      <th>year</th>\n",
       "    </tr>\n",
       "  </thead>\n",
       "  <tbody>\n",
       "    <tr>\n",
       "      <th>0</th>\n",
       "      <td>0</td>\n",
       "      <td>1958-09-08</td>\n",
       "      <td>Domenico Modugno</td>\n",
       "      <td>Nel Blu Dipinto Di Blu (Volare)</td>\n",
       "      <td>1</td>\n",
       "      <td>1.0</td>\n",
       "      <td>1</td>\n",
       "      <td>6</td>\n",
       "      <td>F.Migliacci, D.Modugno</td>\n",
       "      <td>Not Listed</td>\n",
       "      <td>Decca</td>\n",
       "      <td>1958</td>\n",
       "    </tr>\n",
       "    <tr>\n",
       "      <th>1</th>\n",
       "      <td>1</td>\n",
       "      <td>1958-09-08</td>\n",
       "      <td>The Elegants</td>\n",
       "      <td>Little Star</td>\n",
       "      <td>2</td>\n",
       "      <td>2.0</td>\n",
       "      <td>1</td>\n",
       "      <td>6</td>\n",
       "      <td>V.Picone, A.Venosa</td>\n",
       "      <td>Not Listed</td>\n",
       "      <td>Apt</td>\n",
       "      <td>1958</td>\n",
       "    </tr>\n",
       "    <tr>\n",
       "      <th>2</th>\n",
       "      <td>2</td>\n",
       "      <td>1958-09-08</td>\n",
       "      <td>The Everly Brothers</td>\n",
       "      <td>Bird Dog</td>\n",
       "      <td>3</td>\n",
       "      <td>3.0</td>\n",
       "      <td>3</td>\n",
       "      <td>6</td>\n",
       "      <td>B.Bryant</td>\n",
       "      <td>Not Listed</td>\n",
       "      <td>Cadence</td>\n",
       "      <td>1958</td>\n",
       "    </tr>\n",
       "    <tr>\n",
       "      <th>3</th>\n",
       "      <td>3</td>\n",
       "      <td>1958-09-08</td>\n",
       "      <td>Jimmy Clanton And His Rockets</td>\n",
       "      <td>Just A Dream</td>\n",
       "      <td>4</td>\n",
       "      <td>4.0</td>\n",
       "      <td>4</td>\n",
       "      <td>6</td>\n",
       "      <td>Not Listed</td>\n",
       "      <td>Not Listed</td>\n",
       "      <td>Ace</td>\n",
       "      <td>1958</td>\n",
       "    </tr>\n",
       "    <tr>\n",
       "      <th>4</th>\n",
       "      <td>4</td>\n",
       "      <td>1958-09-08</td>\n",
       "      <td>Perez Prado And His Orchestra</td>\n",
       "      <td>Patricia</td>\n",
       "      <td>5</td>\n",
       "      <td>6.0</td>\n",
       "      <td>2</td>\n",
       "      <td>6</td>\n",
       "      <td>B.Marcus, P.Prado</td>\n",
       "      <td>Not Listed</td>\n",
       "      <td>RCA Victor</td>\n",
       "      <td>1958</td>\n",
       "    </tr>\n",
       "  </tbody>\n",
       "</table>\n",
       "</div>"
      ],
      "text/plain": [
       "   Unnamed: 0 first_day_of_the_week                         artist  \\\n",
       "0           0            1958-09-08               Domenico Modugno   \n",
       "1           1            1958-09-08                   The Elegants   \n",
       "2           2            1958-09-08            The Everly Brothers   \n",
       "3           3            1958-09-08  Jimmy Clanton And His Rockets   \n",
       "4           4            1958-09-08  Perez Prado And His Orchestra   \n",
       "\n",
       "                         song_name  position  last_week_position  \\\n",
       "0  Nel Blu Dipinto Di Blu (Volare)         1                 1.0   \n",
       "1                      Little Star         2                 2.0   \n",
       "2                         Bird Dog         3                 3.0   \n",
       "3                     Just A Dream         4                 4.0   \n",
       "4                         Patricia         5                 6.0   \n",
       "\n",
       "   peak_position  weeks_on_chart             songwriters   producers  \\\n",
       "0              1               6  F.Migliacci, D.Modugno  Not Listed   \n",
       "1              1               6      V.Picone, A.Venosa  Not Listed   \n",
       "2              3               6                B.Bryant  Not Listed   \n",
       "3              4               6              Not Listed  Not Listed   \n",
       "4              2               6       B.Marcus, P.Prado  Not Listed   \n",
       "\n",
       "  promotion_label  year  \n",
       "0           Decca  1958  \n",
       "1             Apt  1958  \n",
       "2         Cadence  1958  \n",
       "3             Ace  1958  \n",
       "4      RCA Victor  1958  "
      ]
     },
     "execution_count": 28,
     "metadata": {},
     "output_type": "execute_result"
    }
   ],
   "source": [
    "billboard_hot_100[\"year\"] = billboard_hot_100[\"first_day_of_the_week\"].dt.year\n",
    "\n",
    "billboard_hot_100.head()"
   ]
  },
  {
   "cell_type": "markdown",
   "id": "869bff58",
   "metadata": {},
   "source": [
    "## Song lifetime on chart"
   ]
  },
  {
   "cell_type": "code",
   "execution_count": 29,
   "id": "66606921",
   "metadata": {},
   "outputs": [
    {
     "name": "stdout",
     "output_type": "stream",
     "text": [
      "Average max weeks on chart for all songs:  11.055281504867141\n"
     ]
    }
   ],
   "source": [
    "max_weeks_on_chart = billboard_hot_100[[\"artist\", \"song_name\", \"weeks_on_chart\"]].groupby(by=[\"artist\", \"song_name\"]).max()\n",
    "avg_week_on_chart = np.mean(max_weeks_on_chart[\"weeks_on_chart\"])\n",
    "\n",
    "print(\"Average max weeks on chart for all songs: \", avg_week_on_chart)"
   ]
  },
  {
   "cell_type": "code",
   "execution_count": 30,
   "id": "9011269c",
   "metadata": {},
   "outputs": [],
   "source": [
    "max_weeks_on_chart_yearly = billboard_hot_100[[\"artist\", \"song_name\", \"weeks_on_chart\", \"year\"]].groupby(\n",
    "    by=[\"artist\", \"song_name\", \"year\"]).max()\n",
    "avg_week_on_chart_yearly = max_weeks_on_chart_yearly.groupby(by=\"year\").mean()"
   ]
  },
  {
   "cell_type": "code",
   "execution_count": 31,
   "id": "496d2175",
   "metadata": {
    "scrolled": false
   },
   "outputs": [
    {
     "data": {
      "image/png": "[encoded data removed]",
      "text/plain": [
       "<Figure size 864x504 with 1 Axes>"
      ]
     },
     "metadata": {
      "needs_background": "light"
     },
     "output_type": "display_data"
    }
   ],
   "source": [
    "import matplotlib.pyplot as plt\n",
    "\n",
    "weeks_on_chart_plot = avg_week_on_chart_yearly.plot(kind='bar', figsize=(12, 7), legend=False)\n",
    "plt.title(\"Average weeks on the chart by year\")\n",
    "plt.xlabel(\"Year\")\n",
    "plt.ylabel(\"Average weeks on the chart\")\n",
    "plt.xticks(rotation = 45)\n",
    "\n",
    "for label in weeks_on_chart_plot.xaxis.get_ticklabels()[1::2]:\n",
    "    label.set_visible(False)\n",
    "\n",
    "plt.show()"
   ]
  },
  {
   "cell_type": "markdown",
   "id": "76de3f13",
   "metadata": {},
   "source": [
    "## New songs on the charts"
   ]
  },
  {
   "cell_type": "code",
   "execution_count": 81,
   "id": "22a73e57",
   "metadata": {},
   "outputs": [
    {
     "data": {
      "image/png": "[encoded data removed]",
      "text/plain": [
       "<Figure size 1440x504 with 1 Axes>"
      ]
     },
     "metadata": {
      "needs_background": "light"
     },
     "output_type": "display_data"
    }
   ],
   "source": [
    "billboard_hot_100[\"new_song\"] = billboard_hot_100[\"last_week_position\"].map(\n",
    "    lambda position: \"New on chart\" if not np.isnan(position) else \"Not new on chart\")\n",
    "\n",
    "cross_tab_songs = pd.crosstab(index=billboard_hot_100[\"year\"],\n",
    "                             columns=billboard_hot_100[\"new_song\"],\n",
    "                             normalize=\"index\")\n",
    "\n",
    "cross_tab_songs_plot = cross_tab_songs.plot(kind='bar',\n",
    "                                            width=0.5,\n",
    "                                            stacked=True,\n",
    "                                            colormap='tab10',\n",
    "                                            figsize=(20, 7))\n",
    "plt.title(\"Percrentage of new songs on the chart\")\n",
    "plt.xlabel(\"Year\")\n",
    "plt.ylabel(\"Proportion\")\n",
    "plt.xticks(rotation = 45)\n",
    "plt.legend(loc=\"upper left\", ncol=2)\n",
    "\n",
    "for label in cross_tab_songs_plot.xaxis.get_ticklabels()[1::2]:\n",
    "    label.set_visible(False)\n",
    "\n",
    "for n, x in enumerate([*cross_tab_songs.index.values]):\n",
    "    for (i, proportion) in enumerate(cross_tab_songs.loc[x]):\n",
    "        plt.text(x=n - 0.5,\n",
    "                 y=proportion / 2 if i == 0 else (1 - proportion) + proportion / 2,\n",
    "                 s=f'{np.round(proportion * 100, 1)}%', \n",
    "                 color=\"black\",\n",
    "                 fontsize=6,\n",
    "                 fontweight=\"bold\")\n",
    "\n",
    "plt.show()"
   ]
  },
  {
   "cell_type": "markdown",
   "id": "6a29d65d",
   "metadata": {},
   "source": [
    "## Best perfoming songs"
   ]
  },
  {
   "cell_type": "code",
   "execution_count": 87,
   "id": "ceef67ef",
   "metadata": {},
   "outputs": [
    {
     "data": {
      "text/html": [
       "<style type=\"text/css\">\n",
       "</style>\n",
       "<table id=\"T_fc101_\">\n",
       "  <thead>\n",
       "    <tr>\n",
       "      <th class=\"blank level0\" >&nbsp;</th>\n",
       "      <th class=\"col_heading level0 col0\" >artist</th>\n",
       "      <th class=\"col_heading level0 col1\" >song_name</th>\n",
       "      <th class=\"col_heading level0 col2\" >weeks_on_chart</th>\n",
       "    </tr>\n",
       "  </thead>\n",
       "  <tbody>\n",
       "    <tr>\n",
       "      <th id=\"T_fc101_level0_row0\" class=\"row_heading level0 row0\" >0</th>\n",
       "      <td id=\"T_fc101_row0_col0\" class=\"data row0 col0\" >Glass Animals</td>\n",
       "      <td id=\"T_fc101_row0_col1\" class=\"data row0 col1\" >Heat Waves</td>\n",
       "      <td id=\"T_fc101_row0_col2\" class=\"data row0 col2\" >91</td>\n",
       "    </tr>\n",
       "    <tr>\n",
       "      <th id=\"T_fc101_level0_row1\" class=\"row_heading level0 row1\" >1</th>\n",
       "      <td id=\"T_fc101_row1_col0\" class=\"data row1 col0\" >The Weeknd</td>\n",
       "      <td id=\"T_fc101_row1_col1\" class=\"data row1 col1\" >Blinding Lights</td>\n",
       "      <td id=\"T_fc101_row1_col2\" class=\"data row1 col2\" >90</td>\n",
       "    </tr>\n",
       "    <tr>\n",
       "      <th id=\"T_fc101_level0_row2\" class=\"row_heading level0 row2\" >2</th>\n",
       "      <td id=\"T_fc101_row2_col0\" class=\"data row2 col0\" >Imagine Dragons</td>\n",
       "      <td id=\"T_fc101_row2_col1\" class=\"data row2 col1\" >Radioactive</td>\n",
       "      <td id=\"T_fc101_row2_col2\" class=\"data row2 col2\" >87</td>\n",
       "    </tr>\n",
       "    <tr>\n",
       "      <th id=\"T_fc101_level0_row3\" class=\"row_heading level0 row3\" >3</th>\n",
       "      <td id=\"T_fc101_row3_col0\" class=\"data row3 col0\" >AWOLNATION</td>\n",
       "      <td id=\"T_fc101_row3_col1\" class=\"data row3 col1\" >Sail</td>\n",
       "      <td id=\"T_fc101_row3_col2\" class=\"data row3 col2\" >79</td>\n",
       "    </tr>\n",
       "    <tr>\n",
       "      <th id=\"T_fc101_level0_row4\" class=\"row_heading level0 row4\" >4</th>\n",
       "      <td id=\"T_fc101_row4_col0\" class=\"data row4 col0\" >Dua Lipa</td>\n",
       "      <td id=\"T_fc101_row4_col1\" class=\"data row4 col1\" >Levitating</td>\n",
       "      <td id=\"T_fc101_row4_col2\" class=\"data row4 col2\" >77</td>\n",
       "    </tr>\n",
       "    <tr>\n",
       "      <th id=\"T_fc101_level0_row5\" class=\"row_heading level0 row5\" >5</th>\n",
       "      <td id=\"T_fc101_row5_col0\" class=\"data row5 col0\" >Jason Mraz</td>\n",
       "      <td id=\"T_fc101_row5_col1\" class=\"data row5 col1\" >I'm Yours</td>\n",
       "      <td id=\"T_fc101_row5_col2\" class=\"data row5 col2\" >76</td>\n",
       "    </tr>\n",
       "    <tr>\n",
       "      <th id=\"T_fc101_level0_row6\" class=\"row_heading level0 row6\" >6</th>\n",
       "      <td id=\"T_fc101_row6_col0\" class=\"data row6 col0\" >The Weeknd & Ariana Grande</td>\n",
       "      <td id=\"T_fc101_row6_col1\" class=\"data row6 col1\" >Save Your Tears</td>\n",
       "      <td id=\"T_fc101_row6_col2\" class=\"data row6 col2\" >69</td>\n",
       "    </tr>\n",
       "    <tr>\n",
       "      <th id=\"T_fc101_level0_row7\" class=\"row_heading level0 row7\" >7</th>\n",
       "      <td id=\"T_fc101_row7_col0\" class=\"data row7 col0\" >LeAnn Rimes</td>\n",
       "      <td id=\"T_fc101_row7_col1\" class=\"data row7 col1\" >How Do I Live</td>\n",
       "      <td id=\"T_fc101_row7_col2\" class=\"data row7 col2\" >69</td>\n",
       "    </tr>\n",
       "    <tr>\n",
       "      <th id=\"T_fc101_level0_row8\" class=\"row_heading level0 row8\" >8</th>\n",
       "      <td id=\"T_fc101_row8_col0\" class=\"data row8 col0\" >LMFAO Featuring Lauren Bennett & GoonRock</td>\n",
       "      <td id=\"T_fc101_row8_col1\" class=\"data row8 col1\" >Party Rock Anthem</td>\n",
       "      <td id=\"T_fc101_row8_col2\" class=\"data row8 col2\" >68</td>\n",
       "    </tr>\n",
       "    <tr>\n",
       "      <th id=\"T_fc101_level0_row9\" class=\"row_heading level0 row9\" >9</th>\n",
       "      <td id=\"T_fc101_row9_col0\" class=\"data row9 col0\" >OneRepublic</td>\n",
       "      <td id=\"T_fc101_row9_col1\" class=\"data row9 col1\" >Counting Stars</td>\n",
       "      <td id=\"T_fc101_row9_col2\" class=\"data row9 col2\" >68</td>\n",
       "    </tr>\n",
       "  </tbody>\n",
       "</table>\n"
      ],
      "text/plain": [
       "<pandas.io.formats.style.Styler at 0x208f0e8b490>"
      ]
     },
     "execution_count": 87,
     "metadata": {},
     "output_type": "execute_result"
    }
   ],
   "source": [
    "max_weeks_on_chart_sorted = max_weeks_on_chart.sort_values(by=\"weeks_on_chart\", ascending=False).reset_index()\n",
    "\n",
    "max_weeks_on_chart_sorted.head(10).style"
   ]
  },
  {
   "cell_type": "markdown",
   "id": "b49acafc",
   "metadata": {},
   "source": [
    "## Best songwriters"
   ]
  },
  {
   "cell_type": "code",
   "execution_count": 114,
   "id": "098ccf06",
   "metadata": {},
   "outputs": [
    {
     "data": {
      "text/html": [
       "<style type=\"text/css\">\n",
       "</style>\n",
       "<table id=\"T_4114a_\">\n",
       "  <thead>\n",
       "    <tr>\n",
       "      <th class=\"blank level0\" >&nbsp;</th>\n",
       "      <th class=\"col_heading level0 col0\" >songwriters</th>\n",
       "      <th class=\"col_heading level0 col1\" >songs_count</th>\n",
       "    </tr>\n",
       "  </thead>\n",
       "  <tbody>\n",
       "    <tr>\n",
       "      <th id=\"T_4114a_level0_row0\" class=\"row_heading level0 row0\" >0</th>\n",
       "      <td id=\"T_4114a_row0_col0\" class=\"data row0 col0\" >A.Anders, P.Astrom, R.Murphy</td>\n",
       "      <td id=\"T_4114a_row0_col1\" class=\"data row0 col1\" >160</td>\n",
       "    </tr>\n",
       "    <tr>\n",
       "      <th id=\"T_4114a_level0_row1\" class=\"row_heading level0 row1\" >1</th>\n",
       "      <td id=\"T_4114a_row1_col0\" class=\"data row1 col0\" >Columbia</td>\n",
       "      <td id=\"T_4114a_row1_col1\" class=\"data row1 col1\" >107</td>\n",
       "    </tr>\n",
       "    <tr>\n",
       "      <th id=\"T_4114a_level0_row2\" class=\"row_heading level0 row2\" >2</th>\n",
       "      <td id=\"T_4114a_row2_col0\" class=\"data row2 col0\" >B.Appleberry</td>\n",
       "      <td id=\"T_4114a_row2_col1\" class=\"data row2 col1\" >84</td>\n",
       "    </tr>\n",
       "    <tr>\n",
       "      <th id=\"T_4114a_level0_row3\" class=\"row_heading level0 row3\" >3</th>\n",
       "      <td id=\"T_4114a_row3_col0\" class=\"data row3 col0\" >D.Huff</td>\n",
       "      <td id=\"T_4114a_row3_col1\" class=\"data row3 col1\" >84</td>\n",
       "    </tr>\n",
       "    <tr>\n",
       "      <th id=\"T_4114a_level0_row4\" class=\"row_heading level0 row4\" >4</th>\n",
       "      <td id=\"T_4114a_row4_col0\" class=\"data row4 col0\" >Republic</td>\n",
       "      <td id=\"T_4114a_row4_col1\" class=\"data row4 col1\" >66</td>\n",
       "    </tr>\n",
       "    <tr>\n",
       "      <th id=\"T_4114a_level0_row5\" class=\"row_heading level0 row5\" >5</th>\n",
       "      <td id=\"T_4114a_row5_col0\" class=\"data row5 col0\" >D.E.Warren</td>\n",
       "      <td id=\"T_4114a_row5_col1\" class=\"data row5 col1\" >66</td>\n",
       "    </tr>\n",
       "    <tr>\n",
       "      <th id=\"T_4114a_level0_row6\" class=\"row_heading level0 row6\" >6</th>\n",
       "      <td id=\"T_4114a_row6_col0\" class=\"data row6 col0\" >Epic</td>\n",
       "      <td id=\"T_4114a_row6_col1\" class=\"data row6 col1\" >64</td>\n",
       "    </tr>\n",
       "    <tr>\n",
       "      <th id=\"T_4114a_level0_row7\" class=\"row_heading level0 row7\" >7</th>\n",
       "      <td id=\"T_4114a_row7_col0\" class=\"data row7 col0\" >F.Rogers</td>\n",
       "      <td id=\"T_4114a_row7_col1\" class=\"data row7 col1\" >62</td>\n",
       "    </tr>\n",
       "    <tr>\n",
       "      <th id=\"T_4114a_level0_row8\" class=\"row_heading level0 row8\" >8</th>\n",
       "      <td id=\"T_4114a_row8_col0\" class=\"data row8 col0\" >The Neptunes</td>\n",
       "      <td id=\"T_4114a_row8_col1\" class=\"data row8 col1\" >59</td>\n",
       "    </tr>\n",
       "    <tr>\n",
       "      <th id=\"T_4114a_level0_row9\" class=\"row_heading level0 row9\" >9</th>\n",
       "      <td id=\"T_4114a_row9_col0\" class=\"data row9 col0\" >Capitol</td>\n",
       "      <td id=\"T_4114a_row9_col1\" class=\"data row9 col1\" >59</td>\n",
       "    </tr>\n",
       "  </tbody>\n",
       "</table>\n"
      ],
      "text/plain": [
       "<pandas.io.formats.style.Styler at 0x208f0d6b8b0>"
      ]
     },
     "execution_count": 114,
     "metadata": {},
     "output_type": "execute_result"
    }
   ],
   "source": [
    "songs_with_songwriters = billboard_hot_100[billboard_hot_100[\"songwriters\"] != \"Not Listed\"]\n",
    "\n",
    "songwriters_songs_count = songs_with_songwriters.groupby(by=[\"songwriters\", \"artist\", \"song_name\"]).size().groupby(\n",
    "    by=\"songwriters\").count().sort_values(ascending=False).reset_index(name=\"songs_count\")\n",
    "songwriters_songs_count.head(10).style"
   ]
  }
 ],
 "metadata": {
  "kernelspec": {
   "display_name": "Python 3 (ipykernel)",
   "language": "python",
   "name": "python3"
  },
  "language_info": {
   "codemirror_mode": {
    "name": "ipython",
    "version": 3
   },
   "file_extension": ".py",
   "mimetype": "text/x-python",
   "name": "python",
   "nbconvert_exporter": "python",
   "pygments_lexer": "ipython3",
   "version": "3.9.7"
  }
 },
 "nbformat": 4,
 "nbformat_minor": 5
}
