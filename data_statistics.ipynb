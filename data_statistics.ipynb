{
 "cells": [
  {
   "cell_type": "code",
   "execution_count": 1,
   "id": "79aef9aa",
   "metadata": {},
   "outputs": [],
   "source": [
    "import pandas as pd\n",
    "import numpy as np\n",
    "\n",
    "billboard_hot_100 = pd.read_csv(\"billboard_hot_100.csv\")\n",
    "billboard_hot_100[\"first_day_of_the_week\"] = pd.to_datetime(billboard_hot_100[\"first_day_of_the_week\"],\n",
    "                                                            infer_datetime_format=True)"
   ]
  },
  {
   "cell_type": "code",
   "execution_count": 2,
   "id": "1b72ef71",
   "metadata": {},
   "outputs": [
    {
     "data": {
      "text/plain": [
       "Unnamed: 0                        int64\n",
       "first_day_of_the_week    datetime64[ns]\n",
       "artist                           object\n",
       "song_name                        object\n",
       "position                          int64\n",
       "last_week_position              float64\n",
       "peak_position                     int64\n",
       "weeks_on_chart                    int64\n",
       "songwriters                      object\n",
       "producers                        object\n",
       "promotion_label                  object\n",
       "dtype: object"
      ]
     },
     "execution_count": 2,
     "metadata": {},
     "output_type": "execute_result"
    }
   ],
   "source": [
    "billboard_hot_100.dtypes"
   ]
  },
  {
   "cell_type": "code",
   "execution_count": 3,
   "id": "4f2f2ea6",
   "metadata": {},
   "outputs": [
    {
     "data": {
      "text/html": [
       "<div>\n",
       "<style scoped>\n",
       "    .dataframe tbody tr th:only-of-type {\n",
       "        vertical-align: middle;\n",
       "    }\n",
       "\n",
       "    .dataframe tbody tr th {\n",
       "        vertical-align: top;\n",
       "    }\n",
       "\n",
       "    .dataframe thead th {\n",
       "        text-align: right;\n",
       "    }\n",
       "</style>\n",
       "<table border=\"1\" class=\"dataframe\">\n",
       "  <thead>\n",
       "    <tr style=\"text-align: right;\">\n",
       "      <th></th>\n",
       "      <th>Unnamed: 0</th>\n",
       "      <th>first_day_of_the_week</th>\n",
       "      <th>artist</th>\n",
       "      <th>song_name</th>\n",
       "      <th>position</th>\n",
       "      <th>last_week_position</th>\n",
       "      <th>peak_position</th>\n",
       "      <th>weeks_on_chart</th>\n",
       "      <th>songwriters</th>\n",
       "      <th>producers</th>\n",
       "      <th>promotion_label</th>\n",
       "      <th>year</th>\n",
       "    </tr>\n",
       "  </thead>\n",
       "  <tbody>\n",
       "    <tr>\n",
       "      <th>0</th>\n",
       "      <td>0</td>\n",
       "      <td>1958-09-08</td>\n",
       "      <td>Domenico Modugno</td>\n",
       "      <td>Nel Blu Dipinto Di Blu (Volare)</td>\n",
       "      <td>1</td>\n",
       "      <td>1.0</td>\n",
       "      <td>1</td>\n",
       "      <td>6</td>\n",
       "      <td>F.Migliacci, D.Modugno</td>\n",
       "      <td>Not Listed</td>\n",
       "      <td>Decca</td>\n",
       "      <td>1958</td>\n",
       "    </tr>\n",
       "    <tr>\n",
       "      <th>1</th>\n",
       "      <td>1</td>\n",
       "      <td>1958-09-08</td>\n",
       "      <td>The Elegants</td>\n",
       "      <td>Little Star</td>\n",
       "      <td>2</td>\n",
       "      <td>2.0</td>\n",
       "      <td>1</td>\n",
       "      <td>6</td>\n",
       "      <td>V.Picone, A.Venosa</td>\n",
       "      <td>Not Listed</td>\n",
       "      <td>Apt</td>\n",
       "      <td>1958</td>\n",
       "    </tr>\n",
       "    <tr>\n",
       "      <th>2</th>\n",
       "      <td>2</td>\n",
       "      <td>1958-09-08</td>\n",
       "      <td>The Everly Brothers</td>\n",
       "      <td>Bird Dog</td>\n",
       "      <td>3</td>\n",
       "      <td>3.0</td>\n",
       "      <td>3</td>\n",
       "      <td>6</td>\n",
       "      <td>B.Bryant</td>\n",
       "      <td>Not Listed</td>\n",
       "      <td>Cadence</td>\n",
       "      <td>1958</td>\n",
       "    </tr>\n",
       "    <tr>\n",
       "      <th>3</th>\n",
       "      <td>3</td>\n",
       "      <td>1958-09-08</td>\n",
       "      <td>Jimmy Clanton And His Rockets</td>\n",
       "      <td>Just A Dream</td>\n",
       "      <td>4</td>\n",
       "      <td>4.0</td>\n",
       "      <td>4</td>\n",
       "      <td>6</td>\n",
       "      <td>Not Listed</td>\n",
       "      <td>Not Listed</td>\n",
       "      <td>Ace</td>\n",
       "      <td>1958</td>\n",
       "    </tr>\n",
       "    <tr>\n",
       "      <th>4</th>\n",
       "      <td>4</td>\n",
       "      <td>1958-09-08</td>\n",
       "      <td>Perez Prado And His Orchestra</td>\n",
       "      <td>Patricia</td>\n",
       "      <td>5</td>\n",
       "      <td>6.0</td>\n",
       "      <td>2</td>\n",
       "      <td>6</td>\n",
       "      <td>B.Marcus, P.Prado</td>\n",
       "      <td>Not Listed</td>\n",
       "      <td>RCA Victor</td>\n",
       "      <td>1958</td>\n",
       "    </tr>\n",
       "  </tbody>\n",
       "</table>\n",
       "</div>"
      ],
      "text/plain": [
       "   Unnamed: 0 first_day_of_the_week                         artist  \\\n",
       "0           0            1958-09-08               Domenico Modugno   \n",
       "1           1            1958-09-08                   The Elegants   \n",
       "2           2            1958-09-08            The Everly Brothers   \n",
       "3           3            1958-09-08  Jimmy Clanton And His Rockets   \n",
       "4           4            1958-09-08  Perez Prado And His Orchestra   \n",
       "\n",
       "                         song_name  position  last_week_position  \\\n",
       "0  Nel Blu Dipinto Di Blu (Volare)         1                 1.0   \n",
       "1                      Little Star         2                 2.0   \n",
       "2                         Bird Dog         3                 3.0   \n",
       "3                     Just A Dream         4                 4.0   \n",
       "4                         Patricia         5                 6.0   \n",
       "\n",
       "   peak_position  weeks_on_chart             songwriters   producers  \\\n",
       "0              1               6  F.Migliacci, D.Modugno  Not Listed   \n",
       "1              1               6      V.Picone, A.Venosa  Not Listed   \n",
       "2              3               6                B.Bryant  Not Listed   \n",
       "3              4               6              Not Listed  Not Listed   \n",
       "4              2               6       B.Marcus, P.Prado  Not Listed   \n",
       "\n",
       "  promotion_label  year  \n",
       "0           Decca  1958  \n",
       "1             Apt  1958  \n",
       "2         Cadence  1958  \n",
       "3             Ace  1958  \n",
       "4      RCA Victor  1958  "
      ]
     },
     "execution_count": 3,
     "metadata": {},
     "output_type": "execute_result"
    }
   ],
   "source": [
    "billboard_hot_100[\"year\"] = billboard_hot_100[\"first_day_of_the_week\"].dt.year\n",
    "\n",
    "billboard_hot_100.head()"
   ]
  },
  {
   "cell_type": "markdown",
   "id": "869bff58",
   "metadata": {},
   "source": [
    "## Song lifetime on chart"
   ]
  },
  {
   "cell_type": "code",
   "execution_count": 4,
   "id": "66606921",
   "metadata": {},
   "outputs": [
    {
     "name": "stdout",
     "output_type": "stream",
     "text": [
      "Average max weeks on chart for all songs:  11.055281504867141\n"
     ]
    }
   ],
   "source": [
    "max_weeks_on_chart = billboard_hot_100[[\"artist\", \"song_name\", \"weeks_on_chart\"]].groupby(by=[\"artist\", \"song_name\"]).max()\n",
    "avg_week_on_chart = np.mean(max_weeks_on_chart[\"weeks_on_chart\"])\n",
    "\n",
    "print(\"Average max weeks on chart for all songs: \", avg_week_on_chart)"
   ]
  },
  {
   "cell_type": "code",
   "execution_count": 5,
   "id": "9011269c",
   "metadata": {},
   "outputs": [],
   "source": [
    "max_weeks_on_chart_yearly = billboard_hot_100[[\"artist\", \"song_name\", \"weeks_on_chart\", \"year\"]].groupby(\n",
    "    by=[\"artist\", \"song_name\", \"year\"]).max()\n",
    "avg_week_on_chart_yearly = max_weeks_on_chart_yearly.groupby(by=\"year\").mean()"
   ]
  },
  {
   "cell_type": "code",
   "execution_count": 29,
   "id": "496d2175",
   "metadata": {
    "scrolled": false
   },
   "outputs": [
    {
     "data": {
      "image/png": "[encoded data removed]",
      "text/plain": [
       "<Figure size 1000x600 with 1 Axes>"
      ]
     },
     "metadata": {},
     "output_type": "display_data"
    }
   ],
   "source": [
    "import matplotlib.pyplot as plt\n",
    "\n",
    "weeks_on_chart_plot = avg_week_on_chart_yearly.plot(kind='bar', figsize=(10, 6), legend=False)\n",
    "plt.title(\"Average weeks on the chart by year\")\n",
    "plt.xlabel(\"Year\")\n",
    "plt.ylabel(\"Average weeks on the chart\")\n",
    "plt.xticks(rotation = 45)\n",
    "\n",
    "for label in weeks_on_chart_plot.xaxis.get_ticklabels()[1::2]:\n",
    "    label.set_visible(False)\n",
    "\n",
    "plt.show()"
   ]
  },
  {
   "cell_type": "markdown",
   "id": "76de3f13",
   "metadata": {},
   "source": [
    "## New songs on the charts"
   ]
  },
  {
   "cell_type": "code",
   "execution_count": null,
   "id": "22a73e57",
   "metadata": {},
   "outputs": [],
   "source": []
  }
 ],
 "metadata": {
  "kernelspec": {
   "display_name": "Python 3 (ipykernel)",
   "language": "python",
   "name": "python3"
  },
  "language_info": {
   "codemirror_mode": {
    "name": "ipython",
    "version": 3
   },
   "file_extension": ".py",
   "mimetype": "text/x-python",
   "name": "python",
   "nbconvert_exporter": "python",
   "pygments_lexer": "ipython3",
   "version": "3.11.1"
  }
 },
 "nbformat": 4,
 "nbformat_minor": 5
}
