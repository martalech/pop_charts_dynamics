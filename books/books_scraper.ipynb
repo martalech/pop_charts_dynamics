{
 "cells": [
  {
   "cell_type": "code",
   "execution_count": 1,
   "metadata": {},
   "outputs": [
    {
     "name": "stderr",
     "output_type": "stream",
     "text": [
      "2023-03-22 14:43:13 [scrapy.utils.log] INFO: Scrapy 2.7.1 started (bot: scrapybot)\n",
      "2023-03-22 14:43:13 [scrapy.utils.log] INFO: Versions: lxml 4.9.2.0, libxml2 2.9.12, cssselect 1.2.0, parsel 1.7.0, w3lib 2.1.1, Twisted 22.10.0, Python 3.11.1 (tags/v3.11.1:a7a450f, Dec  6 2022, 19:58:39) [MSC v.1934 64 bit (AMD64)], pyOpenSSL 23.0.0 (OpenSSL 3.0.7 1 Nov 2022), cryptography 39.0.0, Platform Windows-10-10.0.19044-SP0\n",
      "2023-03-22 14:43:13 [scrapy.crawler] INFO: Overridden settings:\n",
      "{'LOG_LEVEL': 'INFO'}\n",
      "2023-03-22 14:43:13 [py.warnings] WARNING: c:\\Users\\cutie\\source\\repos\\mgr\\env\\Lib\\site-packages\\scrapy\\utils\\request.py:231: ScrapyDeprecationWarning: '2.6' is a deprecated value for the 'REQUEST_FINGERPRINTER_IMPLEMENTATION' setting.\n",
      "\n",
      "It is also the default value. In other words, it is normal to get this warning if you have not defined a value for the 'REQUEST_FINGERPRINTER_IMPLEMENTATION' setting. This is so for backward compatibility reasons, but it will change in a future version of Scrapy.\n",
      "\n",
      "See the documentation of the 'REQUEST_FINGERPRINTER_IMPLEMENTATION' setting for information on how to handle this deprecation.\n",
      "  return cls(crawler)\n",
      "\n",
      "2023-03-22 14:43:13 [scrapy.extensions.telnet] INFO: Telnet Password: 2a9b71a7ac9a08ef\n",
      "2023-03-22 14:43:13 [scrapy.middleware] INFO: Enabled extensions:\n",
      "['scrapy.extensions.corestats.CoreStats',\n",
      " 'scrapy.extensions.telnet.TelnetConsole',\n",
      " 'scrapy.extensions.feedexport.FeedExporter',\n",
      " 'scrapy.extensions.logstats.LogStats']\n",
      "2023-03-22 14:43:14 [scrapy.middleware] INFO: Enabled downloader middlewares:\n",
      "['scrapy.downloadermiddlewares.httpauth.HttpAuthMiddleware',\n",
      " 'scrapy.downloadermiddlewares.downloadtimeout.DownloadTimeoutMiddleware',\n",
      " 'scrapy.downloadermiddlewares.defaultheaders.DefaultHeadersMiddleware',\n",
      " 'scrapy.downloadermiddlewares.useragent.UserAgentMiddleware',\n",
      " 'scrapy.downloadermiddlewares.retry.RetryMiddleware',\n",
      " 'scrapy.downloadermiddlewares.redirect.MetaRefreshMiddleware',\n",
      " 'scrapy.downloadermiddlewares.httpcompression.HttpCompressionMiddleware',\n",
      " 'scrapy.downloadermiddlewares.redirect.RedirectMiddleware',\n",
      " 'scrapy.downloadermiddlewares.cookies.CookiesMiddleware',\n",
      " 'scrapy.downloadermiddlewares.httpproxy.HttpProxyMiddleware',\n",
      " 'scrapy.downloadermiddlewares.stats.DownloaderStats']\n",
      "2023-03-22 14:43:15 [scrapy.middleware] INFO: Enabled spider middlewares:\n",
      "['scrapy.spidermiddlewares.httperror.HttpErrorMiddleware',\n",
      " 'scrapy.spidermiddlewares.offsite.OffsiteMiddleware',\n",
      " 'scrapy.spidermiddlewares.referer.RefererMiddleware',\n",
      " 'scrapy.spidermiddlewares.urllength.UrlLengthMiddleware',\n",
      " 'scrapy.spidermiddlewares.depth.DepthMiddleware']\n",
      "2023-03-22 14:43:15 [scrapy.middleware] INFO: Enabled item pipelines:\n",
      "[]\n",
      "2023-03-22 14:43:15 [scrapy.core.engine] INFO: Spider opened\n",
      "2023-03-22 14:43:17 [scrapy.extensions.logstats] INFO: Crawled 0 pages (at 0 pages/min), scraped 0 items (at 0 items/min)\n",
      "2023-03-22 14:43:17 [scrapy.extensions.telnet] INFO: Telnet console listening on 127.0.0.1:6023\n"
     ]
    },
    {
     "data": {
      "text/plain": [
       "<Deferred at 0x21a89b6d350>"
      ]
     },
     "execution_count": 1,
     "metadata": {},
     "output_type": "execute_result"
    }
   ],
   "source": [
    "import datetime\n",
    "import logging\n",
    "\n",
    "from books_spider import BooksSpider\n",
    "from scrapy.crawler import CrawlerProcess\n",
    "\n",
    "process = CrawlerProcess(settings={\n",
    "    \"FEEDS\": {\n",
    "        \"books2.csv\": {\"format\": \"csv\"},\n",
    "    },\n",
    "    \"LOG_LEVEL\": \"INFO\"\n",
    "})\n",
    "\n",
    "process.crawl(BooksSpider)"
   ]
  },
  {
   "cell_type": "code",
   "execution_count": 2,
   "metadata": {},
   "outputs": [
    {
     "name": "stderr",
     "output_type": "stream",
     "text": [
      "2023-03-22 14:44:25 [scrapy.extensions.logstats] INFO: Crawled 7 pages (at 7 pages/min), scraped 918 items (at 918 items/min)\n",
      "2023-03-22 14:45:24 [scrapy.extensions.logstats] INFO: Crawled 7 pages (at 0 pages/min), scraped 1868 items (at 950 items/min)\n",
      "2023-03-22 14:46:25 [scrapy.extensions.logstats] INFO: Crawled 7 pages (at 0 pages/min), scraped 2836 items (at 968 items/min)\n",
      "2023-03-22 14:47:24 [scrapy.extensions.logstats] INFO: Crawled 7 pages (at 0 pages/min), scraped 3803 items (at 967 items/min)\n",
      "2023-03-22 14:48:25 [scrapy.extensions.logstats] INFO: Crawled 7 pages (at 0 pages/min), scraped 4787 items (at 984 items/min)\n",
      "2023-03-22 14:49:16 [scrapy.core.engine] INFO: Closing spider (finished)\n",
      "2023-03-22 14:49:16 [scrapy.extensions.feedexport] INFO: Stored csv feed (5717 items) in: books2.csv\n",
      "2023-03-22 14:49:16 [scrapy.statscollectors] INFO: Dumping Scrapy stats:\n",
      "{'downloader/request_bytes': 1582,\n",
      " 'downloader/request_count': 7,\n",
      " 'downloader/request_method_count/GET': 7,\n",
      " 'downloader/response_bytes': 69943,\n",
      " 'downloader/response_count': 7,\n",
      " 'downloader/response_status_count/200': 7,\n",
      " 'elapsed_time_seconds': 359.166184,\n",
      " 'feedexport/success_count/FileFeedStorage': 1,\n",
      " 'finish_reason': 'finished',\n",
      " 'finish_time': datetime.datetime(2023, 3, 22, 13, 49, 16, 774233),\n",
      " 'item_scraped_count': 5717,\n",
      " 'log_count/INFO': 16,\n",
      " 'log_count/WARNING': 1,\n",
      " 'response_received_count': 7,\n",
      " 'scheduler/dequeued': 7,\n",
      " 'scheduler/dequeued/memory': 7,\n",
      " 'scheduler/enqueued': 7,\n",
      " 'scheduler/enqueued/memory': 7,\n",
      " 'start_time': datetime.datetime(2023, 3, 22, 13, 43, 17, 608049)}\n",
      "2023-03-22 14:49:16 [scrapy.core.engine] INFO: Spider closed (finished)\n"
     ]
    }
   ],
   "source": [
    "logging.getLogger('scrapy').setLevel(logging.INFO) \n",
    "\n",
    "process.start()"
   ]
  }
 ],
 "metadata": {
  "kernelspec": {
   "display_name": "env",
   "language": "python",
   "name": "python3"
  },
  "language_info": {
   "codemirror_mode": {
    "name": "ipython",
    "version": 3
   },
   "file_extension": ".py",
   "mimetype": "text/x-python",
   "name": "python",
   "nbconvert_exporter": "python",
   "pygments_lexer": "ipython3",
   "version": "3.11.1"
  },
  "orig_nbformat": 4
 },
 "nbformat": 4,
 "nbformat_minor": 2
}
